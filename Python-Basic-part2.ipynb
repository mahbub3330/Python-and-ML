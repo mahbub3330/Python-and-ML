{
 "cells": [
  {
   "cell_type": "code",
   "execution_count": 1,
   "id": "5caa1e29",
   "metadata": {},
   "outputs": [
    {
     "name": "stdout",
     "output_type": "stream",
     "text": [
      "Enter a text of number: 10 20 30\n",
      "60\n"
     ]
    }
   ],
   "source": [
    "#list as an input from user\n",
    "\n",
    "n = input(\"Enter a text of number: \")\n",
    "\n",
    "list = n.split()\n",
    "\n",
    "sum = 0\n",
    "\n",
    "for item in list:\n",
    "    sum = sum + int(item)\n",
    "print(sum)"
   ]
  },
  {
   "cell_type": "code",
   "execution_count": 3,
   "id": "bf3678fb",
   "metadata": {},
   "outputs": [
    {
     "name": "stdout",
     "output_type": "stream",
     "text": [
      "1\n",
      "2\n",
      "3\n",
      "4\n",
      "5\n",
      "6\n"
     ]
    }
   ],
   "source": [
    "#matrix in python\n",
    "\n",
    "matrix = [\n",
    "    [1,2,3],\n",
    "    [4,5,6]\n",
    "]\n",
    "\n",
    "for row in matrix:\n",
    "    for col in row:\n",
    "        print(col)\n"
   ]
  },
  {
   "cell_type": "code",
   "execution_count": 9,
   "id": "ecc407ba",
   "metadata": {},
   "outputs": [
    {
     "name": "stdout",
     "output_type": "stream",
     "text": [
      "Mahbub Alam\n",
      "Habib Rahman\n",
      "Not a valid Key\n"
     ]
    }
   ],
   "source": [
    "#dictionary stores key:value pair data\n",
    "\n",
    "studentInfo = {\n",
    "    \"101\" : \"Mahbub Alam\",\n",
    "    \"102\" : \"Habib Rahman\",\n",
    "    \"103\" : \"Touhid\"\n",
    "}\n",
    "\n",
    "print(studentInfo[\"101\"])\n",
    "print(studentInfo.get(\"102\", \"Not a valid Key\"))\n",
    "\n",
    "print(studentInfo.get(\"106\", \"Not a valid Key\"))\n"
   ]
  },
  {
   "cell_type": "code",
   "execution_count": 10,
   "id": "edb357e9",
   "metadata": {},
   "outputs": [
    {
     "name": "stdout",
     "output_type": "stream",
     "text": [
      "('Mahbub Alam', 'Habib Rahman', 'Touhid Alam')\n"
     ]
    }
   ],
   "source": [
    "#tuples is as same as list but tuples are immutable(can't not change)\n",
    "\n",
    "students = (\n",
    "    \"Mahbub Alam\",\n",
    "    \"Habib Rahman\",\n",
    "    \"Touhid Alam\"\n",
    ")\n",
    "\n",
    "#students[0] = \"changed name\" // will provide error\n",
    "\n",
    "print(students)\n"
   ]
  },
  {
   "cell_type": "code",
   "execution_count": 17,
   "id": "53c7f5e9",
   "metadata": {},
   "outputs": [
    {
     "name": "stdout",
     "output_type": "stream",
     "text": [
      "{1, 5, 7, 9}\n",
      "True\n",
      "{1, 3, 4, 5, 6, 7, 9}\n"
     ]
    }
   ],
   "source": [
    "#set unordered collection of items, means index wise is not accessable, also duplication is not allowed\n",
    "#A set can be created using 1. curly braces, 2. set functions\n",
    "\n",
    "\n",
    "number = {1, 3, 4, 5, 6, 5} #duplicate 5 will ignored\n",
    "number2 = set([1, 3, 5, 7])\n",
    "number2.add(9)\n",
    "number2.remove(3)\n",
    "print(number2)\n",
    "print( 7 in number2 )\n",
    "\n",
    "print (number | number2 ) # union\n",
    "print(number & number2) #intersection\n",
    "print(number - number2) #diff. \n"
   ]
  },
  {
   "cell_type": "code",
   "execution_count": 18,
   "id": "30654f46",
   "metadata": {},
   "outputs": [
    {
     "name": "stdout",
     "output_type": "stream",
     "text": [
      "deque(['habib', 'touhid'])\n"
     ]
    }
   ],
   "source": [
    "#stack and queue\n",
    "\n",
    "# stacke => last  in append, first out pop\n",
    "\n",
    "# for queue => first out popleft, \n",
    "from collections import deque\n",
    "\n",
    "bank = deque([\"Mahbub\", \"habib\", \"touhid\"])\n",
    "bank.popleft()\n",
    "bank.\n",
    "print(bank)\n"
   ]
  },
  {
   "cell_type": "code",
   "execution_count": 20,
   "id": "a8044512",
   "metadata": {},
   "outputs": [
    {
     "name": "stdout",
     "output_type": "stream",
     "text": [
      "6\n",
      "62\n"
     ]
    }
   ],
   "source": [
    "#user define function\n",
    "def add(num1, num2):\n",
    "    print(num1 + num2)\n",
    "add(2, 4)\n",
    "\n",
    "def large(num1, num2):\n",
    "    if num1 > num2:\n",
    "        return num1\n",
    "    else:\n",
    "        return num2\n",
    "print(large(4,62))"
   ]
  },
  {
   "cell_type": "code",
   "execution_count": 22,
   "id": "7e7907ab",
   "metadata": {},
   "outputs": [
    {
     "name": "stdout",
     "output_type": "stream",
     "text": [
      "(101, 'mahbub')\n",
      "{'id': 101, 'name': 'Mahbub'}\n"
     ]
    }
   ],
   "source": [
    "#xargs and xxargs\n",
    "#xargs using * sign //takes as list\n",
    "\n",
    "def student(*details):\n",
    "    print(details)\n",
    "student(101, \"mahbub\")\n",
    "\n",
    "#xxargs using **sign //takes as dictionary param with key\n",
    "\n",
    "def student(**details):\n",
    "    print(details)\n",
    "student(id=101, name=\"Mahbub\")"
   ]
  },
  {
   "cell_type": "code",
   "execution_count": 1,
   "id": "91289ef2",
   "metadata": {},
   "outputs": [
    {
     "name": "stdout",
     "output_type": "stream",
     "text": [
      "25\n"
     ]
    }
   ],
   "source": [
    "#LAMDA function./ anonymous function\n",
    "#A function without name\n",
    "#Not powerful as named function and it can work with single expression/single line of code\n",
    "\n",
    "#lambda parameter:expression example- lambda a,b:a*a+2*a*b+b*b\n",
    "\n",
    "print((lambda a,b: a*a+2*a*b+b*b)(2,3) )"
   ]
  },
  {
   "cell_type": "code",
   "execution_count": 2,
   "id": "60185dd8",
   "metadata": {},
   "outputs": [
    {
     "name": "stdout",
     "output_type": "stream",
     "text": [
      "[1, 4, 9, 16, 25]\n"
     ]
    }
   ],
   "source": [
    "#map(function, list)\n",
    "\n",
    "def square(x):\n",
    "    return x*x\n",
    "num = [1,2,3,4,5]\n",
    "result = list (map(square, num))\n",
    "print(result)"
   ]
  },
  {
   "cell_type": "code",
   "execution_count": 3,
   "id": "3545a69d",
   "metadata": {},
   "outputs": [
    {
     "name": "stdout",
     "output_type": "stream",
     "text": [
      "[2, 4]\n"
     ]
    }
   ],
   "source": [
    "#filter(function, list)\n",
    "num=[1, 2, 3, 4, 5]\n",
    "result = list(filter(lambda x:x%2==0, num))\n",
    "print(result)"
   ]
  },
  {
   "cell_type": "code",
   "execution_count": 5,
   "id": "a3c6f420",
   "metadata": {},
   "outputs": [
    {
     "name": "stdout",
     "output_type": "stream",
     "text": [
      "[1, 4, 9, 16, 25]\n",
      "[2, 4]\n"
     ]
    }
   ],
   "source": [
    "#List Comprehensions\n",
    "#[expression for item in list] or\n",
    "#[expression for item in list condition]\n",
    "num = [1,2,3,4,5]\n",
    "mapExample = [x*x for x in num]\n",
    "print(mapExample)\n",
    "\n",
    "filterExample = [x for x in num if x%2==0]\n",
    "print(filterExample)"
   ]
  },
  {
   "cell_type": "code",
   "execution_count": 7,
   "id": "78af56ea",
   "metadata": {},
   "outputs": [
    {
     "name": "stdout",
     "output_type": "stream",
     "text": [
      "[(101, 'Mahbub'), (102, 'Alam'), (103, 'Habib'), (104, 'Rahman'), (105, 'Touhid')]\n",
      "[(101, 'Mahbub', 'A'), (102, 'Alam', 'B'), (103, 'Habib', 'A'), (104, 'Rahman', 'B'), (105, 'Touhid', 'A')]\n"
     ]
    }
   ],
   "source": [
    "#zip function combining multiple list into one\n",
    "roll = [101, 102, 103, 104, 105]\n",
    "name = [\"Mahbub\", \"Alam\", \"Habib\", \"Rahman\", \"Touhid\"]\n",
    "print(list(zip(roll, name)))\n",
    "print(list(zip(roll, name, \"ABABA\")))"
   ]
  },
  {
   "cell_type": "code",
   "execution_count": 9,
   "id": "4369389c",
   "metadata": {},
   "outputs": [
    {
     "name": "stdout",
     "output_type": "stream",
     "text": [
      "120\n"
     ]
    }
   ],
   "source": [
    "#Recursion: A process where a funcation can call itself\n",
    "#To stop calling we need a base case\n",
    "#2 important points in case of recursion: 1.Recursive call, 2.Base Case\n",
    "def factorial(n):\n",
    "    if n == 1:\n",
    "        return 1\n",
    "    else:\n",
    "        return n * factorial(n-1)\n",
    "print(factorial(5))"
   ]
  },
  {
   "cell_type": "code",
   "execution_count": 17,
   "id": "3135d120",
   "metadata": {},
   "outputs": [
    {
     "name": "stdout",
     "output_type": "stream",
     "text": [
      "111\n",
      "Mahbub Alam - Laravel and Vue js Developer\n",
      "\n",
      "Habib Rahman - Wordpress Developer\n",
      "\n",
      "Touhid Alam - React js Developer\n",
      "\n"
     ]
    }
   ],
   "source": [
    "#Read file open(filename, mode). r => read, w => write, r+ => read, write\n",
    "\n",
    "file = open(\"developer.txt\", \"r\")\n",
    "#print(file.readable())\n",
    "\n",
    "#text = file.read()\n",
    "#print(text)\n",
    "\n",
    "size = len(text)\n",
    "print(size)\n",
    "\n",
    "#textList = file.readlines()\n",
    "#print(textList)\n",
    "\n",
    "for line in file:\n",
    "    print(line)\n",
    "\n",
    "file.close()"
   ]
  },
  {
   "cell_type": "code",
   "execution_count": 18,
   "id": "56ea42a7",
   "metadata": {},
   "outputs": [],
   "source": [
    "#a => append\n",
    "file = open(\"developer.txt\", \"a\")\n",
    "file.write(\"\\n Sadi - Node js Developer\")\n",
    "\n",
    "file.close()"
   ]
  },
  {
   "cell_type": "code",
   "execution_count": 22,
   "id": "065a0a63",
   "metadata": {},
   "outputs": [
    {
     "name": "stdout",
     "output_type": "stream",
     "text": [
      "Enter a Number: a\n",
      "Successful\n"
     ]
    },
    {
     "ename": "ValueError",
     "evalue": "invalid literal for int() with base 10: 'a'",
     "output_type": "error",
     "traceback": [
      "\u001b[0;31m---------------------------------------------------------------------------\u001b[0m",
      "\u001b[0;31mValueError\u001b[0m                                Traceback (most recent call last)",
      "\u001b[0;32m/tmp/ipykernel_69846/1795754467.py\u001b[0m in \u001b[0;36m<module>\u001b[0;34m\u001b[0m\n\u001b[1;32m      1\u001b[0m \u001b[0;31m#exceptions : runtime error/incorrect input/incorrect code\u001b[0m\u001b[0;34m\u001b[0m\u001b[0;34m\u001b[0m\u001b[0m\n\u001b[1;32m      2\u001b[0m \u001b[0;32mtry\u001b[0m\u001b[0;34m:\u001b[0m\u001b[0;34m\u001b[0m\u001b[0;34m\u001b[0m\u001b[0m\n\u001b[0;32m----> 3\u001b[0;31m     \u001b[0mnum2\u001b[0m \u001b[0;34m=\u001b[0m \u001b[0mint\u001b[0m\u001b[0;34m(\u001b[0m\u001b[0minput\u001b[0m\u001b[0;34m(\u001b[0m\u001b[0;34m\"Enter a Number: \"\u001b[0m\u001b[0;34m)\u001b[0m\u001b[0;34m)\u001b[0m\u001b[0;34m\u001b[0m\u001b[0;34m\u001b[0m\u001b[0m\n\u001b[0m\u001b[1;32m      4\u001b[0m     \u001b[0mresult\u001b[0m \u001b[0;34m=\u001b[0m \u001b[0;36m20\u001b[0m\u001b[0;34m/\u001b[0m\u001b[0mnum2\u001b[0m\u001b[0;34m\u001b[0m\u001b[0;34m\u001b[0m\u001b[0m\n\u001b[1;32m      5\u001b[0m     \u001b[0mprint\u001b[0m\u001b[0;34m(\u001b[0m\u001b[0mresult\u001b[0m\u001b[0;34m)\u001b[0m\u001b[0;34m\u001b[0m\u001b[0;34m\u001b[0m\u001b[0m\n",
      "\u001b[0;31mValueError\u001b[0m: invalid literal for int() with base 10: 'a'"
     ]
    }
   ],
   "source": [
    "#exceptions : runtime error/incorrect input/incorrect code\n",
    "try:    \n",
    "    num2 = int(input(\"Enter a Number: \"))\n",
    "    result = 20/num2\n",
    "    print(result)\n",
    "except ZeroDivisionError:\n",
    "    print(\"Divide By zero is not possible\")\n",
    "finally:\n",
    "    print(\"Successful\")"
   ]
  },
  {
   "cell_type": "code",
   "execution_count": 24,
   "id": "04fce5bd",
   "metadata": {},
   "outputs": [
    {
     "name": "stdout",
     "output_type": "stream",
     "text": [
      "You are allowed to vote\n",
      "Invalid Voter\n"
     ]
    }
   ],
   "source": [
    "#exception handling part 2- custom\n",
    "\n",
    "def voter(age):\n",
    "    if(age < 18):\n",
    "        raise ValueError(\"Invalid Voter\")\n",
    "    return \"You are allowed to vote\"\n",
    "try:\n",
    "    print(voter(19))\n",
    "    print(voter(17))\n",
    "except ValueError as err:\n",
    "    print(err)\n",
    "    "
   ]
  },
  {
   "cell_type": "code",
   "execution_count": null,
   "id": "dc5f2130",
   "metadata": {},
   "outputs": [],
   "source": []
  }
 ],
 "metadata": {
  "kernelspec": {
   "display_name": "Python 3 (ipykernel)",
   "language": "python",
   "name": "python3"
  },
  "language_info": {
   "codemirror_mode": {
    "name": "ipython",
    "version": 3
   },
   "file_extension": ".py",
   "mimetype": "text/x-python",
   "name": "python",
   "nbconvert_exporter": "python",
   "pygments_lexer": "ipython3",
   "version": "3.10.6"
  }
 },
 "nbformat": 4,
 "nbformat_minor": 5
}
