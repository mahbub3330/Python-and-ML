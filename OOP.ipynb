{
 "cells": [
  {
   "cell_type": "code",
   "execution_count": 3,
   "id": "b8d2bb40",
   "metadata": {},
   "outputs": [
    {
     "name": "stdout",
     "output_type": "stream",
     "text": [
      "True\n"
     ]
    }
   ],
   "source": [
    "class Student:\n",
    "    roll = \"\"\n",
    "    gpa = \"\"\n",
    "\n",
    "rahim = Student()\n",
    "\n",
    "print(isinstance(rahim, Student))\n",
    "    "
   ]
  },
  {
   "cell_type": "code",
   "execution_count": 6,
   "id": "914a9087",
   "metadata": {},
   "outputs": [
    {
     "name": "stdout",
     "output_type": "stream",
     "text": [
      "Roll : 12 , GPA: 3.5\n"
     ]
    }
   ],
   "source": [
    "class Student:\n",
    "    roll = \"\"\n",
    "    gpa = \"\"\n",
    "    \n",
    "    def __init__(self, roll, gpa):\n",
    "        self.roll = roll\n",
    "        self.gpa = gpa\n",
    "    \n",
    "    def display(self):\n",
    "        print(f\"Roll : {self.roll} , GPA: {self.gpa}\")\n",
    "\n",
    "rahim = Student(12, 3.5)\n",
    "rahim.display()"
   ]
  },
  {
   "cell_type": "code",
   "execution_count": 8,
   "id": "403eaf47",
   "metadata": {},
   "outputs": [
    {
     "name": "stdout",
     "output_type": "stream",
     "text": [
      "Area is 100.0 \n",
      "Area is 300.0 \n"
     ]
    }
   ],
   "source": [
    "class Triangle:\n",
    "   \n",
    "    def __init__(self, base, height):\n",
    "        self.base = base\n",
    "        self.height = height\n",
    "    \n",
    "    def calculate_area(self):\n",
    "        area = 0.5 * self.base * self.height\n",
    "        print(f\"Area is {area} \")\n",
    "t1 = Triangle(10, 20)\n",
    "t1.calculate_area()\n",
    "\n",
    "t2 = Triangle(20, 30)\n",
    "t2.calculate_area()"
   ]
  },
  {
   "cell_type": "code",
   "execution_count": 9,
   "id": "7a685da2",
   "metadata": {},
   "outputs": [
    {
     "name": "stdout",
     "output_type": "stream",
     "text": [
      "You can call\n",
      "You can message\n",
      "You can take photo\n"
     ]
    }
   ],
   "source": [
    "#inheritance\n",
    "\n",
    "class Phone:\n",
    "    \n",
    "    def call(self):\n",
    "        print(\"You can call\")\n",
    "        \n",
    "    def message(self):\n",
    "        print(\"You can message\")\n",
    "        \n",
    "class Samsung(Phone):\n",
    "    \n",
    "    def photo(self):\n",
    "        print(\"You can take photo\")\n",
    "\n",
    "s = Samsung()\n",
    "s.call()\n",
    "s.message()\n",
    "s.photo()\n",
    "\n"
   ]
  },
  {
   "cell_type": "code",
   "execution_count": 11,
   "id": "48a52212",
   "metadata": {},
   "outputs": [
    {
     "name": "stdout",
     "output_type": "stream",
     "text": [
      "I am from Phone\n",
      "I am from Samsung\n"
     ]
    }
   ],
   "source": [
    "\n",
    "class Phone:\n",
    "    \n",
    "    def __init__(self):\n",
    "        print(\"I am from Phone\")\n",
    "        \n",
    "class Samsung(Phone):\n",
    "    def __init__(self):\n",
    "        #for calling from super class\n",
    "        \n",
    "        super().__init__()\n",
    "        print(\"I am from Samsung\")\n",
    "    \n",
    "s = Samsung()\n",
    " "
   ]
  },
  {
   "cell_type": "code",
   "execution_count": 5,
   "id": "7fc7cc70",
   "metadata": {},
   "outputs": [
    {
     "name": "stdout",
     "output_type": "stream",
     "text": [
      "I amd from class B\n"
     ]
    }
   ],
   "source": [
    "#python support multiple inheritance and takes first inherited classes method\n",
    "\n",
    "class A:\n",
    "    def display(self):\n",
    "        print(\"I am from class A\")\n",
    "class B:\n",
    "    def display(self):\n",
    "        print(\"I amd from class B\")\n",
    "class C(B,A):\n",
    "    pass\n",
    "\n",
    "test = C()\n",
    "test.display()"
   ]
  },
  {
   "cell_type": "code",
   "execution_count": 10,
   "id": "667a9f69",
   "metadata": {},
   "outputs": [],
   "source": [
    "# in python if we inherite a class which required params to initialize \n",
    "# and the inherited class does not have constuctor then it'll required inherited classes params\n",
    "# and if inherited class have constructor then it will required only its params\n",
    "class Shape()\n",
    "    \n",
    "    def __init__(self, dim1, dim2):\n",
    "        self.dim1 = dim1\n",
    "        self.dim2 = dim2\n",
    "        \n",
    "class Traingle(Shape):\n",
    "    \n",
    "    def __init__(self, dim3):\n",
    "        self.dim3 = dim3\n",
    "    \n",
    "    def area(self):\n",
    "        area = self.dim1 * self.dim2 * 0.5\n",
    "        print(\"Area is :\", area)\n",
    "t1 = Traingle(12);\n",
    "\n",
    "        "
   ]
  },
  {
   "cell_type": "code",
   "execution_count": 14,
   "id": "6af43efd",
   "metadata": {},
   "outputs": [
    {
     "name": "stdout",
     "output_type": "stream",
     "text": [
      "Area is : 1.0\n"
     ]
    }
   ],
   "source": [
    "#abstract class => from abc(abstract base class) import ABC, abstractmethod to create abstract class\n",
    "\n",
    "from abc import ABC, abstractmethod\n",
    "\n",
    "class Shape(ABC):\n",
    "    def __init__(self, dim1, dim2):\n",
    "        self.dim1 = dim1\n",
    "        self.dim2 = dim2\n",
    "    @abstractmethod\n",
    "    def area(self):\n",
    "        pass\n",
    "class Traingle(Shape):\n",
    "    \n",
    "    def area(self):\n",
    "        area = self.dim1 * self.dim2 * 0.5\n",
    "        print(\"Area is :\", area)\n",
    "\n",
    "t1 = Traingle(1,2)\n",
    "t1.area()"
   ]
  },
  {
   "cell_type": "code",
   "execution_count": null,
   "id": "db56b7ee",
   "metadata": {},
   "outputs": [],
   "source": [
    "#python magic methods always starts and end with double underscore\n",
    "# __init__() //constractor\n",
    "# __eq__(self, other)\n",
    "#__ne__(self, other)\n",
    "#__lt__(self, other)\n",
    "#__gt__(self, other)\n",
    "#__le__(self, other)\n",
    "#__ge__(self, other)\n",
    "\n",
    "# def __str__(self): show objects value\n"
   ]
  }
 ],
 "metadata": {
  "kernelspec": {
   "display_name": "Python 3 (ipykernel)",
   "language": "python",
   "name": "python3"
  },
  "language_info": {
   "codemirror_mode": {
    "name": "ipython",
    "version": 3
   },
   "file_extension": ".py",
   "mimetype": "text/x-python",
   "name": "python",
   "nbconvert_exporter": "python",
   "pygments_lexer": "ipython3",
   "version": "3.10.6"
  }
 },
 "nbformat": 4,
 "nbformat_minor": 5
}
