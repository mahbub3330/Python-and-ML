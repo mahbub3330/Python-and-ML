{
 "cells": [
  {
   "cell_type": "code",
   "execution_count": null,
   "id": "80f4f97a",
   "metadata": {},
   "outputs": [],
   "source": [
    "#hash is used to comment single line"
   ]
  },
  {
   "cell_type": "code",
   "execution_count": 75,
   "id": "da9da07c",
   "metadata": {},
   "outputs": [
    {
     "name": "stdout",
     "output_type": "stream",
     "text": [
      "hello world \n",
      "Mahbub Alam\n",
      "hello world \tMahbub Alam\n",
      "\"hello world\" \tMahbub Alam\n"
     ]
    }
   ],
   "source": [
    "'''\n",
    "here it is multiple comment\n",
    "'''\n",
    "\n",
    "print('hello world \\nMahbub Alam') # \\n used for new line\n",
    "print('hello world \\tMahbub Alam') # \\t used for provide 4spaces \n",
    "print(\"\\\"hello world\\\" \\tMahbub Alam\") #special quotation can be shown using \\before special quotations like \"\""
   ]
  },
  {
   "cell_type": "code",
   "execution_count": 11,
   "id": "648bc422",
   "metadata": {},
   "outputs": [
    {
     "name": "stdout",
     "output_type": "stream",
     "text": [
      "My Name is Mahbub Alam\n",
      "My age is  26\n"
     ]
    }
   ],
   "source": [
    "#variable\n",
    "#variable can name can use only string, number and underscore (_) \n",
    "#however you can not start a variable name using Number\n",
    "name = \"Mahbub Alam\"\n",
    "age = 26\n",
    "print(\"My Name is \" + name) #string can print using '+' sign\n",
    "print(\"My age is \", age) #for printing number we must use ','"
   ]
  },
  {
   "cell_type": "code",
   "execution_count": 16,
   "id": "35e4cc90",
   "metadata": {},
   "outputs": [
    {
     "name": "stdout",
     "output_type": "stream",
     "text": [
      "\n"
     ]
    }
   ],
   "source": [
    "#data type in python\n",
    "'''\n",
    "Text Type:\tstr\n",
    "Numeric Types:\tint, float, complex\n",
    "Sequence Types:\tlist, tuple, range\n",
    "Mapping Type:\tdict\n",
    "Set Types:\tset, frozenset\n",
    "Boolean Type:\tbool\n",
    "Binary Types:\tbytes, bytearray, memoryview\n",
    "None Type:\tNoneType\n",
    "'''\n",
    "print()"
   ]
  },
  {
   "cell_type": "code",
   "execution_count": 23,
   "id": "406c72be",
   "metadata": {},
   "outputs": [
    {
     "name": "stdout",
     "output_type": "stream",
     "text": [
      "9\n",
      "1\n",
      "20\n",
      "1.25\n",
      "1\n",
      "3.0\n",
      "16\n"
     ]
    }
   ],
   "source": [
    "#numaric operation\n",
    "'''\n",
    "+ => addition, - => substraction , * => multiplication , / => division\n",
    "\n",
    "// => Floor, ** => Exponentiation, % => reminder\n",
    "'''\n",
    "print(5+4)\n",
    "print(5-4)\n",
    "print(5*4)\n",
    "print(5/4)\n",
    "print(5%4)\n",
    "print(5//1.6)\n",
    "print(2**4)"
   ]
  },
  {
   "cell_type": "code",
   "execution_count": 24,
   "id": "7dadd1e3",
   "metadata": {},
   "outputs": [
    {
     "name": "stdout",
     "output_type": "stream",
     "text": [
      "Enter your namemahbub\n",
      "Enter your age12\n",
      "Name is mahbub Age is 12\n"
     ]
    }
   ],
   "source": [
    "#getting input from user\n",
    "name = input(\"Enter your name\")\n",
    "age = input (\"Enter your age\")\n",
    "\n",
    "print(\"Name is \" + name + \" Age is\" , age)"
   ]
  },
  {
   "cell_type": "code",
   "execution_count": 26,
   "id": "fcdb458a",
   "metadata": {},
   "outputs": [
    {
     "name": "stdout",
     "output_type": "stream",
     "text": [
      "Enter First Number3\n",
      "Enter Second Number4\n",
      "Addition of two number is  7\n",
      "Addition of two number is 7\n"
     ]
    }
   ],
   "source": [
    "#type casting\n",
    "num1 = int(input(\"Enter First Number\"))\n",
    "num2 = int(input(\"Enter Second Number\"))\n",
    "result = num1 + num2;\n",
    "print(\"Addition of two number is \", result)\n",
    "print(\"Addition of two number is \"+ str(result))\n"
   ]
  },
  {
   "cell_type": "code",
   "execution_count": 31,
   "id": "b35d3e1c",
   "metadata": {},
   "outputs": [
    {
     "name": "stdout",
     "output_type": "stream",
     "text": [
      "Maximum 20\n",
      "power 8.0\n",
      "round 3\n",
      "Floor 3\n",
      "Ceil 4\n"
     ]
    }
   ],
   "source": [
    "#math library fuctions\n",
    "'''\n",
    "function can be library function and user defined function\n",
    "1. function already created like print(), input() are library function\n",
    "2. function that are created by us user defined function\n",
    "'''\n",
    "from math import *\n",
    "maximumValue = max(20, 10)\n",
    "print('Maximum', maximumValue)\n",
    "print('power', pow(2,3))\n",
    "print('round', round(3.2))\n",
    "print('Floor', floor(3.7))\n",
    "print('Ceil', ceil(3.7))"
   ]
  },
  {
   "cell_type": "code",
   "execution_count": 35,
   "id": "bb2af00e",
   "metadata": {},
   "outputs": [
    {
     "name": "stdout",
     "output_type": "stream",
     "text": [
      "<class 'int'>\n",
      " 20 + 30 = 50\n",
      "Md Mahbub Alam Sirajganj\n"
     ]
    }
   ],
   "source": [
    "#formatting string and type function\n",
    "num1 = 20;\n",
    "num2 = 30;\n",
    "print(type(num1))\n",
    "print(f\" {num1} + {num2} = {num1 + num2}\")\n",
    "\n",
    "print(\"Md Mahbub Alam\", end=\" \") #print default print a new line using end we can remove default behavior\n",
    "print(\"Sirajganj\")"
   ]
  },
  {
   "cell_type": "code",
   "execution_count": 42,
   "id": "27d5d1fb",
   "metadata": {},
   "outputs": [
    {
     "name": "stdout",
     "output_type": "stream",
     "text": [
      "A\n"
     ]
    }
   ],
   "source": [
    "#if elif\n",
    "result  = 75\n",
    "\n",
    "if(result > 80):\n",
    "    print(\"A+\")\n",
    "elif(result > 70 & result < 80):\n",
    "    print(\"A\")\n",
    "else:\n",
    "    print(\"F\")\n",
    "    "
   ]
  },
  {
   "cell_type": "code",
   "execution_count": 43,
   "id": "47a0afcc",
   "metadata": {},
   "outputs": [
    {
     "name": "stdout",
     "output_type": "stream",
     "text": [
      "30\n"
     ]
    }
   ],
   "source": [
    "#ternary operator\n",
    "#output1 condition output2\n",
    "num1 = 20\n",
    "num2 = 30\n",
    "\n",
    "print(num1 if num1>num2 else num2)\n"
   ]
  },
  {
   "cell_type": "code",
   "execution_count": 45,
   "id": "e9f0b5c3",
   "metadata": {},
   "outputs": [
    {
     "name": "stdout",
     "output_type": "stream",
     "text": [
      "Vowel\n"
     ]
    }
   ],
   "source": [
    "#logical operator and, or\n",
    "ch = 'e'\n",
    "if (ch == 'a' or ch == 'e' or ch =='i' or ch =='o' or ch == 'u'):\n",
    "    print('Vowel')\n",
    "else:\n",
    "    print('Consonant')"
   ]
  },
  {
   "cell_type": "code",
   "execution_count": 47,
   "id": "a8e66bdc",
   "metadata": {},
   "outputs": [
    {
     "name": "stdout",
     "output_type": "stream",
     "text": [
      "0\n",
      "1\n",
      "2\n",
      "3\n",
      "4\n",
      "5\n",
      "6\n",
      "7\n",
      "8\n",
      "9\n"
     ]
    }
   ],
   "source": [
    "value = 0;\n",
    "while value<10:\n",
    "    print(value)\n",
    "    value = value+1\n"
   ]
  },
  {
   "cell_type": "code",
   "execution_count": 48,
   "id": "d2a46cdd",
   "metadata": {},
   "outputs": [
    {
     "name": "stdout",
     "output_type": "stream",
     "text": [
      "\n"
     ]
    }
   ],
   "source": [
    "#break and continue\n",
    "#break inside loop if we use it.it will break means exit from the loop\n",
    "#continue inside loop if we use it. it will go back to the loop and does not execute below code\n",
    "print()"
   ]
  },
  {
   "cell_type": "code",
   "execution_count": 74,
   "id": "3dd1b58b",
   "metadata": {},
   "outputs": [
    {
     "name": "stdout",
     "output_type": "stream",
     "text": [
      "['C', 'C++', 'Java', 'Python', '12']\n",
      "C\n",
      "['Java', 'Python', '12']\n",
      "12\n",
      "True\n",
      "['C', 'C++', 'Java', 'Python', '12', 'PhP', 'JavaScript']\n",
      "['C', 'C++', 'Java', 'Python', '12', 'C', 'C++', 'Java', 'Python', '12']\n",
      "5\n",
      "['C', 'C++', 'Java', 'Python', '12', 'Basic']\n",
      "['C', 'C++', 'OS', 'Java', 'Python', '12', 'Basic']\n",
      "['C', 'C++', 'OS', 'Java', 'Python', '12']\n",
      "['12', 'C', 'C++', 'Java', 'OS', 'Python']\n",
      "['12', 'C', 'C++', 'Java', 'OS']\n",
      "['12', 'C', 'C++', 'Java', 'OS']\n",
      "2\n",
      "1\n"
     ]
    }
   ],
   "source": [
    "#List in python \n",
    "'''\n",
    "it can be assume as an object where we can store lots of data\n",
    "'''\n",
    "subject = [\"C\", \"C++\", \"Java\", \"Python\", \"12\"]\n",
    "print(subject)\n",
    "print(subject[0])\n",
    "print(subject[2:])\n",
    "print(subject[-1])\n",
    "\n",
    "#check value exists in list or not \n",
    "print(\"C\" in subject) #case sensitive (not in work opposite)\n",
    "\n",
    "additionalSubject = [\"PhP\", \"JavaScript\"]\n",
    "print(subject+additionalSubject) #concate 2 list\n",
    "print(subject*2) # make double of subject list\n",
    "print(len(subject)) #length of the list\n",
    "\n",
    "subject.append(\"Basic\") #add item in the last\n",
    "print(subject)\n",
    "\n",
    "subject.insert(2, \"OS\") #index wise insert\n",
    "print(subject)\n",
    "\n",
    "subject.remove(\"Basic\") #remove item\n",
    "print(subject)\n",
    "\n",
    "subject.sort() #must required all item in same data type\n",
    "#sort() assending and reverse() decending\n",
    "print(subject)\n",
    "\n",
    "pop = subject.pop() #remove last item\n",
    "print(subject)\n",
    "\n",
    "#subject.clear() #clear full list\n",
    "#print(subject)\n",
    "\n",
    "subject2 = subject.copy()\n",
    "print(subject2)\n",
    "\n",
    "position = subject.index(\"C++\") #return index if exist or provide error\n",
    "print(position)\n",
    "\n",
    "itemWiseCount = subject.count(\"C++\")\n",
    "print(itemWiseCount)"
   ]
  },
  {
   "cell_type": "code",
   "execution_count": 6,
   "id": "26b14322",
   "metadata": {},
   "outputs": [
    {
     "name": "stdout",
     "output_type": "stream",
     "text": [
      "[0, 1, 2, 3, 4, 5, 6, 7, 8, 9]\n",
      "[5, 6, 7, 8, 9, 10]\n",
      "[2, 4, 6, 8, 10, 12, 14, 16, 18, 20, 22, 24, 26, 28, 30, 32, 34, 36, 38, 40, 42, 44, 46, 48, 50, 52, 54, 56, 58, 60, 62, 64, 66, 68, 70, 72, 74, 76, 78, 80, 82, 84, 86, 88, 90, 92, 94, 96, 98, 100]\n"
     ]
    }
   ],
   "source": [
    "#range function start from 0 and end from n-1\n",
    "print(list(range(10)))\n",
    "#range with  start and end //it prints from starting point to end-1\n",
    "print(list(range(5,11)))\n",
    "#range with start, end and interva// it prints from start point to end-1 with interval++/--\n",
    "\n",
    "print(list(range(2, 101, 2)))\n"
   ]
  },
  {
   "cell_type": "code",
   "execution_count": 8,
   "id": "69c1f4a4",
   "metadata": {},
   "outputs": [
    {
     "name": "stdout",
     "output_type": "stream",
     "text": [
      "10\n",
      "20\n",
      "30\n",
      "40\n",
      "50\n"
     ]
    }
   ],
   "source": [
    "#for loop in python\n",
    "num = [10, 20, 30, 40, 50];\n",
    "\n",
    "\n",
    "for item in num:\n",
    "    print(item)\n"
   ]
  },
  {
   "cell_type": "code",
   "execution_count": 9,
   "id": "034753f0",
   "metadata": {},
   "outputs": [
    {
     "name": "stdout",
     "output_type": "stream",
     "text": [
      "Enter the number of N :5\n",
      "15\n"
     ]
    }
   ],
   "source": [
    "#series in python\n",
    "#1 + 2 + 3 + ...+ n\n",
    "\n",
    "n = int(input(\"Enter the number of N :\" ))\n",
    "sum = 0\n",
    "\n",
    "for item in range(1, n+1, 1):\n",
    "    sum = sum+item\n",
    "print(sum)\n"
   ]
  },
  {
   "cell_type": "code",
   "execution_count": 10,
   "id": "f572802e",
   "metadata": {},
   "outputs": [
    {
     "name": "stdout",
     "output_type": "stream",
     "text": [
      "\n",
      "* \n",
      "* * \n",
      "* * * \n"
     ]
    }
   ],
   "source": [
    "#pattern in python\n",
    "n = 3\n",
    "for i in range(n+1):\n",
    "    print(i*\"* \")\n",
    "\n"
   ]
  },
  {
   "cell_type": "code",
   "execution_count": null,
   "id": "1bc78300",
   "metadata": {},
   "outputs": [],
   "source": [
    "\n"
   ]
  },
  {
   "cell_type": "code",
   "execution_count": null,
   "id": "711e9110",
   "metadata": {},
   "outputs": [],
   "source": []
  },
  {
   "cell_type": "code",
   "execution_count": null,
   "id": "d489cb2e",
   "metadata": {},
   "outputs": [],
   "source": []
  },
  {
   "cell_type": "code",
   "execution_count": null,
   "id": "e7f761d4",
   "metadata": {},
   "outputs": [],
   "source": []
  },
  {
   "cell_type": "code",
   "execution_count": null,
   "id": "2d705d44",
   "metadata": {},
   "outputs": [],
   "source": []
  }
 ],
 "metadata": {
  "kernelspec": {
   "display_name": "Python 3 (ipykernel)",
   "language": "python",
   "name": "python3"
  },
  "language_info": {
   "codemirror_mode": {
    "name": "ipython",
    "version": 3
   },
   "file_extension": ".py",
   "mimetype": "text/x-python",
   "name": "python",
   "nbconvert_exporter": "python",
   "pygments_lexer": "ipython3",
   "version": "3.10.6"
  }
 },
 "nbformat": 4,
 "nbformat_minor": 5
}
